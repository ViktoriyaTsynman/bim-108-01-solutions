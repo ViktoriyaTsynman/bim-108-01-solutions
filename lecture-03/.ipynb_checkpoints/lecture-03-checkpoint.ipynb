{
 "cells": [
  {
   "cell_type": "markdown",
   "metadata": {
    "deletable": false
   },
   "source": [
    "# XPath\n",
    "\n",
    "XPath ist eine Sprache zur Verarbeitung von XML Dokumenten. Man kann damit auf Teile eines XML Dokuments zugreifen, durch Elemente und Attribute navigieren, Elemente und Inhalte selektieren, wie auch einfache Operationen auf Inhalten durchführen. In dieser Übung lernen wir XPath anhand praktischen Beispiele besser kennen."
   ]
  },
  {
   "cell_type": "markdown",
   "metadata": {
    "deletable": false
   },
   "source": [
    "Schauen Sie sich die folgenden Beispiele an. \n",
    "\n",
    "Dort wo `# Erklärung:` steht, schreiben Sie Ihre Erklärung für das Resultat."
   ]
  },
  {
   "cell_type": "code",
   "execution_count": 43,
   "metadata": {
    "deletable": false
   },
   "outputs": [
    {
     "name": "stdout",
     "output_type": "stream",
     "text": [
      "/discography/albums/album/..\n",
      "  -> [<Element albums at 0x43ff3516c8>]\n",
      "\n"
     ]
    }
   ],
   "source": [
    "from lxml import etree as et\n",
    "\n",
    "doc = et.fromstring(\"\"\"\n",
    "<discography>\n",
    "  <albums>\n",
    "    <album>\n",
    "      <!-- The 26th best-selling album of all time -->\n",
    "      <title released=\"1973\">The Dark Side of the Moon</title>\n",
    "      <label>Harvest, EMI</label>\n",
    "      <released>\n",
    "        <day>16</day>\n",
    "        <month>03</month>\n",
    "        <year>1973</year>\n",
    "      </released>\n",
    "    </album>\n",
    "    <album>\n",
    "      <!-- The 5th best-selling album of all time -->\n",
    "      <title released=\"1979\">The Wall</title>\n",
    "      <label>Harvest, EMI</label>\n",
    "      <released>\n",
    "        <day>30</day>\n",
    "        <month>11</month>\n",
    "        <year>1979</year> \n",
    "      </released>\n",
    "    </album>\n",
    "  </albums>\n",
    "  <singles>\n",
    "    <single>\n",
    "      <author name=\"Roger Waters\">\n",
    "        <firstname>Roger</firstname>\n",
    "        <lastname>Waters</lastname>\n",
    "      </author>\n",
    "      <title released=\"1992\">What God Wants, Part 1</title>\n",
    "    </single>\n",
    "  </singles>\n",
    "</discography>\n",
    "\"\"\")\n",
    "\n",
    "def e(p):\n",
    "    print('{}'.format(p))\n",
    "    return doc.xpath(p)\n",
    "\n",
    "def p(s):\n",
    "    print('  -> {}\\n'.format(s))\n",
    "    \n",
    "p(e('/discography/albums/album/..'))"
   ]
  },
  {
   "cell_type": "code",
   "execution_count": null,
   "metadata": {
    "deletable": false
   },
   "outputs": [],
   "source": [
    "# Jede Zeile ist ein XPath welcher auf dem obigen XML Dokument evaluiert wird. \n",
    "# Das Resultat wird nach Ausführung unten angezeigt.\n",
    "p(e('/child::discography')) # das Programm gibt aus, ob das Element discography als Kind des Wurzelelements vorhanden ist"
   ]
  },
  {
   "cell_type": "code",
   "execution_count": null,
   "metadata": {
    "deletable": false
   },
   "outputs": [],
   "source": [
    "# Hier werden vier XPath evaluiert mit entsprechend vier Resultate\n",
    "p(e('/discography')[0].tag) # Erklärung: es wird der Tagname des Elements discography unter dem Index 0 (das erste) wiedergegeben\n",
    "p(e('/child::*'))\n",
    "p(e('/discography/*'))\n",
    "p(e('/albums')) # Erklärung: das Element albums wird als leeres array wiedergegeben, weil er unter dem Wurzelelement nich auffindbar ist"
   ]
  },
  {
   "cell_type": "code",
   "execution_count": null,
   "metadata": {
    "deletable": false
   },
   "outputs": [],
   "source": [
    "p(e('/child::discography/child::albums/child::album'))\n",
    "# Warum ergibt dies das gleiche Resultat wie der vorherige XPath?\n",
    "# Schauen Sie nicht auf die 0x... Nummern.\n",
    "p(e('/discography/albums/album')) # Erklärung: weil es hier um das gleiche Pfad habdelt, das anders ausgeschrieben wird\n",
    "p(e('/discography/albums/album/.'))\n",
    "p(e('/discography/albums/album')[0])\n",
    "p(e('/discography/albums/album')[1].tag) # es wird der Tagname des Elements album unter dem Index 1 wiedergegeben\n",
    "p(e('/discographie/albums/album'))"
   ]
  },
  {
   "cell_type": "code",
   "execution_count": null,
   "metadata": {
    "deletable": false
   },
   "outputs": [],
   "source": [
    "p(e('child::singles'))\n",
    "p(e('singles'))\n",
    "p(e('./singles')) # Erklärung: das Element singles wird als Kindelement des self wiedergegeben\n",
    "p(e('albums/album'))"
   ]
  },
  {
   "cell_type": "code",
   "execution_count": null,
   "metadata": {},
   "outputs": [],
   "source": [
    "p(e('//singles'))\n",
    "p(e('//album'))\n",
    "p(e('//day')[1].text) # Erklärung: der Wert des Elements day mit Index 1 wird als Text ausgegeben\n",
    "p(e('//day/text()'))\n",
    "p(e('//@released'))\n",
    "p(e('//@*'))\n",
    "# Inwiefern ist der folgende XPath anders als der vorherige?  \n",
    "p(e('@*')) # Erklärung: // felht, deswegen weden die Attribute nicht ausgegeben"
   ]
  },
  {
   "cell_type": "code",
   "execution_count": null,
   "metadata": {
    "deletable": false
   },
   "outputs": [],
   "source": [
    "p(e('descendant::*')) # Erklärung: es werden alle Nachkommen ausgegeben\n",
    "p(e('descendant::*/album[1]/title')[0].text)\n",
    "p(e('descendant::*/album[2]/title/text()'))\n",
    "p(e('descendant::*/album[2]/title/text()')[0]) # Erklärung: die Ausgabe bleibt leer, da das Element single unter dem Index 2 nicht vorhanden ist"
   ]
  },
  {
   "cell_type": "code",
   "execution_count": null,
   "metadata": {
    "deletable": false
   },
   "outputs": [],
   "source": [
    "p(e('/*/albums/album[1]/title/child::text()')) # Erklärung: das Kindelement (Titel) des Elemnts album unter dem Index 1 wird als Text audgegeben\n",
    "p(e('/descendant::*/album[1]/title/child::text()')[0]) # Erklärung: die gleiche Ausgabe, andere Notation\n",
    "p(e('/descendant::*/singles/single[1]/title/text()'))\n",
    "p(e('/descendant::*/singles/single[2]/title/text()')) # Erklärung: leere Ausgabe, das Element single unter dem Index 2 ist nicht vorhanden"
   ]
  },
  {
   "cell_type": "code",
   "execution_count": null,
   "metadata": {
    "deletable": false
   },
   "outputs": [],
   "source": [
    "p(e('/discography/albums/album/.'))\n",
    "p(e('/discography/albums/album/..')) # Erklärung: die Ausgabe zeigt, dass das Element albums vorhanden ist und dass das Element albums das Elterelement von album ist\n",
    "p(e('/discography/albums/album[1]/title/following-sibling::*'))\n",
    "p(e('/discography/albums/album[1]/label/following-sibling::*'))\n",
    "p(e('/discography/albums/album[1]/released/preceding-sibling::*'))\n",
    "p(e('/discography/albums/album[1]/released/preceding-sibling::*/text()')) # Erklärung: es werden die \"vorherigen\" Geschwisterelemnte des Elemnts released als Text angezeigt\n",
    "p(e('//album[1]/parent::node()/album[2]/title/text()')) # Erklärung: es wird das Elternelement (album 2) als Text ausgegeben\n",
    "p(e('album[1]/parent::node()/album[2]/title/text()'))"
   ]
  },
  {
   "cell_type": "code",
   "execution_count": null,
   "metadata": {},
   "outputs": [],
   "source": [
    "p(e('//album/title/text()'))\n",
    "p(e('//album/title/child::text()'))\n",
    "p(e('//album/comment()'))\n",
    "p(e('//album[1]/child::node()')) # Erklärung: es werden alle Kinderelemente von album 1 ausgegeben"
   ]
  },
  {
   "cell_type": "code",
   "execution_count": null,
   "metadata": {
    "deletable": false
   },
   "outputs": [],
   "source": [
    "p(e('/discography/albums/album/title[@released]'))\n",
    "p(e('/discography/albums/album/title[@released=\"1979\"]')) # Erklärung: es wird ausgegeben, dass der Titelelement mit dem Attribut released=\"1979\" vorhanden ist\n",
    "p(e('/discography/albums/album/title[@released=\"1979\"]/text()'))\n",
    "p(e('/discography/albums/album/title[@released=1979]/text()'))\n",
    "p(e('//album/title[@released=1973]/text() | //album/released[day=30]/../title/text()')) # Erklärung: es werden die Albumtitel mit Attributen released=\"1979\" und released[day=30] als Text ausgegeben\n",
    "p(e('descendant::*[firstname]/@name'))\n",
    "p(e('descendant::*[firstname][@name=\"Roger Waters\"]/parent::single/title/text()')) # Erklärung: es wwerden alle Nachkommenelemente des Elternelements single mit dem Attribut Roger als Vorname ausgegeben"
   ]
  },
  {
   "cell_type": "code",
   "execution_count": null,
   "metadata": {
    "deletable": false
   },
   "outputs": [],
   "source": [
    "p(e('count(albums)'))\n",
    "p(e('count(albums/album)')) # Erklärung: es wird die Anzahl der Elemente album, die zum Element albums gehören gezählt und ausgegeben \n",
    "p(e('//album[position()=1]/title/text()'))\n",
    "p(e('//album[1]/title/text()'))\n",
    "p(e('//album[position()>1]/title/text()')) # Erklärung: es wird der Titel des Elements album als Text ausgegeben, dessen Position größer als 1 ist \n",
    "p(e('//album[position()>=1]/title/text()'))\n",
    "p(e('//album[last()]/title/text()'))\n",
    "p(e('//album[starts-with(title, \"The D\")]/title/text()')) # Erklärung: es wird der Titel des Elements album ausgegben, der mit \"The D\" beginnt\n",
    "p(e('//album[contains(title, \"Wall\")]/title/text()'))\n",
    "p(e('//album/released[not(year=1979)]/parent::node()/title/text()')) # Erklärung: es wird der Titel des Elemnts album ohne Erscheinungsjahr ausgegeben"
   ]
  },
  {
   "cell_type": "markdown",
   "metadata": {
    "deletable": false
   },
   "source": [
    "Und zum Schluss, ein Beispiel mit Namensräumen."
   ]
  },
  {
   "cell_type": "code",
   "execution_count": null,
   "metadata": {},
   "outputs": [],
   "source": [
    "from lxml import etree as et\n",
    "\n",
    "d = et.fromstring(\"\"\"\n",
    "<disc:discography xmlns:disc=\"http://discography.org\" xmlns:alb=\"http://albums.org\" xmlns=\"http://default.org\">\n",
    "<alb:albums>\n",
    "<alb:album title=\"The Dark Side of the Moon\" alb:year=\"1973\"/>\n",
    "</alb:albums>\n",
    "</disc:discography>\n",
    "\"\"\")\n",
    "\n",
    "print(d.xpath('/disc:discography', namespaces={'disc': 'http://discography.org'}))\n",
    "print(d.xpath('/*[local-name() = \"discography\"]'))\n",
    "print(d.xpath('/disc:discography/alb:albums', namespaces={'disc': 'http://discography.org', 'alb': 'http://albums.org'}))\n",
    "print(d.xpath('/*[local-name() = \"discography\"]/*[local-name() = \"albums\"]'))"
   ]
  },
  {
   "cell_type": "markdown",
   "metadata": {},
   "source": [
    "Denken Sie sich nun ein eigenes XML Dokument aus und testen Sie Ihre XPath Abfragen."
   ]
  },
  {
   "cell_type": "code",
   "execution_count": null,
   "metadata": {
    "deletable": false
   },
   "outputs": [],
   "source": [
    "from lxml import etree as et\n",
    "\n",
    "d = et.fromstring(\"\"\"\n",
    "<!-- Mein XML Dokument -->\n",
    "\"\"\")\n",
    "\n",
    "# Meine XPath Abfragen ... \n",
    "print(d.xpath('...'))"
   ]
  }
 ],
 "metadata": {
  "kernelspec": {
   "display_name": "Python 3",
   "language": "python",
   "name": "python3"
  },
  "language_info": {
   "codemirror_mode": {
    "name": "ipython",
    "version": 3
   },
   "file_extension": ".py",
   "mimetype": "text/x-python",
   "name": "python",
   "nbconvert_exporter": "python",
   "pygments_lexer": "ipython3",
   "version": "3.6.4"
  }
 },
 "nbformat": 4,
 "nbformat_minor": 2
}
